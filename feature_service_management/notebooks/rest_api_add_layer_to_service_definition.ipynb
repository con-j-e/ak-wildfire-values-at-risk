{
 "cells": [
  {
   "cell_type": "code",
   "execution_count": null,
   "metadata": {},
   "outputs": [],
   "source": [
    "from arcgis.gis import GIS\n",
    "import ast\n",
    "import json\n",
    "import json5\n",
    "import pathlib\n",
    "import requests\n",
    "\n",
    "cwd = pathlib.Path().cwd()\n",
    "def_dir = cwd.parent / 'layer_definitions' / '20250317'\n",
    "proj_dir = cwd.parent.parent\n",
    "secrets_dir = proj_dir / 'secrets'"
   ]
  },
  {
   "cell_type": "code",
   "execution_count": null,
   "metadata": {},
   "outputs": [],
   "source": [
    "## retrieve token\n",
    "\n",
    "with open(secrets_dir / 'nifc_ago_credentials.txt', 'r') as file:\n",
    "    nifc_credentials_str = file.read()\n",
    "    nifc_credentials_tup = ast.literal_eval(nifc_credentials_str)\n",
    "\n",
    "nifc_gis = GIS(*nifc_credentials_tup)\n",
    "\n",
    "token = nifc_gis._con.token"
   ]
  },
  {
   "cell_type": "code",
   "execution_count": null,
   "metadata": {},
   "outputs": [],
   "source": [
    "# for some reason the order in which layers are added is dictating their url endpoint id - not the \"id\": # parameter in the definition\n",
    "# going through and doing them manually to ensure the correct order is maintained\n",
    "for entry in def_dir.iterdir():\n",
    "\n",
    "    if entry.suffix == '.json5':\n",
    "        print(entry)"
   ]
  },
  {
   "cell_type": "markdown",
   "metadata": {},
   "source": [
    "c:\\REPOS\\con-j-e\\ak-wildfire-values-at-risk\\feature_service_management\\layer_definitions\\20250317\\Fire_Perimeters_and_Reported_Locations.json5\n",
    "c:\\REPOS\\con-j-e\\ak-wildfire-values-at-risk\\feature_service_management\\layer_definitions\\20250317\\Five_Mile_Fire_Buffers.json5\n",
    "c:\\REPOS\\con-j-e\\ak-wildfire-values-at-risk\\feature_service_management\\layer_definitions\\20250317\\One_Mile_Fire_Buffers.json5\n",
    "c:\\REPOS\\con-j-e\\ak-wildfire-values-at-risk\\feature_service_management\\layer_definitions\\20250317\\Three_Mile_Fire_Buffers.json5"
   ]
  },
  {
   "cell_type": "code",
   "execution_count": null,
   "metadata": {},
   "outputs": [],
   "source": [
    "\n",
    "# manually repoint this to each path printed above, going in desired order for the feature service.\n",
    "entry = pathlib.Path(r'c:\\REPOS\\con-j-e\\ak-wildfire-values-at-risk\\feature_service_management\\layer_definitions\\20250317\\Five_Mile_Fire_Buffers.json5')\n",
    "\n",
    "admin_url = r'https://services3.arcgis.com/T4QMspbfLg3qTGWY/arcgis/rest/admin/services/AK_Wildfire_Values_at_Risk/FeatureServer'\n",
    "#-admin_url = r'https://services3.arcgis.com/T4QMspbfLg3qTGWY/arcgis/rest/admin/services/TESTING_AK_Wildfire_Values_at_Risk/FeatureServer'\n",
    "\n",
    "with open(entry, 'r') as json5_file:\n",
    "    layer_definition = json5.load(json5_file)\n",
    "\n",
    "# saving json5 as json before posting data\n",
    "with open(def_dir / f'{entry.stem}.json', 'w') as json_file:\n",
    "    json.dump(layer_definition, json_file, indent=4)\n",
    "\n",
    "with open(def_dir / f'{entry.stem}.json', 'r') as json_file:\n",
    "    layer_definition = json.load(json_file)\n",
    "\n",
    "payload = {\n",
    "    'addToDefinition': json.dumps(layer_definition),\n",
    "    'f': 'json',\n",
    "    'token': token\n",
    "}\n",
    "\n",
    "response = requests.post(\n",
    "    fr'{admin_url}/addToDefinition',\n",
    "    data=payload\n",
    ")\n",
    "\n",
    "print(response.json())"
   ]
  }
 ],
 "metadata": {
  "kernelspec": {
   "display_name": "venv",
   "language": "python",
   "name": "python3"
  },
  "language_info": {
   "codemirror_mode": {
    "name": "ipython",
    "version": 3
   },
   "file_extension": ".py",
   "mimetype": "text/x-python",
   "name": "python",
   "nbconvert_exporter": "python",
   "pygments_lexer": "ipython3",
   "version": "3.12.7"
  }
 },
 "nbformat": 4,
 "nbformat_minor": 2
}
