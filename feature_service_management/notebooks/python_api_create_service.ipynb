{
 "cells": [
  {
   "cell_type": "code",
   "execution_count": 3,
   "metadata": {},
   "outputs": [],
   "source": [
    "from arcgis.gis import GIS, ContentManager\n",
    "import ast\n",
    "import pathlib\n",
    "\n",
    "cwd = pathlib.Path().cwd()\n",
    "proj_dir = cwd.parent.parent\n",
    "secrets_dir = proj_dir / 'secrets'"
   ]
  },
  {
   "cell_type": "code",
   "execution_count": 4,
   "metadata": {},
   "outputs": [],
   "source": [
    "## connect to GIS and get content manager\n",
    "\n",
    "with open(secrets_dir / 'nifc_ago_credentials.txt', 'r') as file:\n",
    "    nifc_credentials_str = file.read()\n",
    "    nifc_credentials_tup = ast.literal_eval(nifc_credentials_str)\n",
    "\n",
    "nifc_gis = GIS(*nifc_credentials_tup)\n",
    "\n",
    "manager = ContentManager(nifc_gis)"
   ]
  },
  {
   "cell_type": "code",
   "execution_count": 5,
   "metadata": {},
   "outputs": [],
   "source": [
    "service = manager.create_service(\n",
    "    #-name = 'TESTING_AK_Wildfire_Values_at_Risk',\n",
    "    name = 'AK_Wildfire_Values_at_Risk',\n",
    "    #-service_description='Test service. Definition should be kept identical to that of the AK_Wildfire_Values_at_Risk service. Used for development purposes.',\n",
    "    service_description = 'Hosts outputs of a values-at-risk analysis for Alaska wildfires. Development is ongoing during the 2025 fire season.',\n",
    "    has_static_data = False,\n",
    "    max_record_count = 2000,\n",
    "    supported_query_formats = 'JSON,geoJSON',\n",
    "    capabilities = 'Query,Create,Update,Delete',\n",
    "    description = '',\n",
    "    copyright_text = '',\n",
    "    wkid = 3338,\n",
    "    create_params = None,\n",
    "    service_type = 'featureService',\n",
    "    owner = 'AK_State_Authoritative_nifc',\n",
    "    folder = 'ak-wildfire-values-at-risk',\n",
    "    #-folder = 'TESTING_ak-wildfire-values-at-risk',\n",
    "    item_properties = None,\n",
    "    is_view = False,\n",
    "    #-tags = 'TESTING',\n",
    "    tags = 'Alaska, Wildfire, Values-at-Risk, Alaska Division of Forestry',\n",
    "    snippet = None,\n",
    "    item_id = None\n",
    ")"
   ]
  },
  {
   "cell_type": "code",
   "execution_count": 6,
   "metadata": {},
   "outputs": [
    {
     "data": {
      "text/html": [
       "<div class=\"item_container\" style=\"height: auto; overflow: hidden; border: 1px solid #cfcfcf; border-radius: 2px; background: #f6fafa; line-height: 1.21429em; padding: 10px;\">\n",
       "                    <div class=\"item_left\" style=\"width: 210px; float: left;\">\n",
       "                       <a href='https://nifc.maps.arcgis.com/home/item.html?id=107d1dd543a341a8b1764fe97738cfa7' target='_blank'>\n",
       "                        <img src='http://static.arcgis.com/images/desktopapp.png' class=\"itemThumbnail\">\n",
       "                       </a>\n",
       "                    </div>\n",
       "\n",
       "                    <div class=\"item_right\"     style=\"float: none; width: auto; overflow: hidden;\">\n",
       "                        <a href='https://nifc.maps.arcgis.com/home/item.html?id=107d1dd543a341a8b1764fe97738cfa7' target='_blank'><b>AK_Wildfire_Values_at_Risk</b>\n",
       "                        </a>\n",
       "                        <br/><br/><img src='https://nifc.maps.arcgis.com/home/js/jsapi/esri/css/images/item_type_icons/featureshosted16.png' style=\"vertical-align:middle;\" width=16 height=16>Feature Layer Collection by AK_State_Authoritative_nifc\n",
       "                        <br/>Last Modified: March 19, 2025\n",
       "                        <br/>0 comments, 0 views\n",
       "                    </div>\n",
       "                </div>\n",
       "                "
      ],
      "text/plain": [
       "<Item title:\"AK_Wildfire_Values_at_Risk\" type:Feature Layer Collection owner:AK_State_Authoritative_nifc>"
      ]
     },
     "execution_count": 6,
     "metadata": {},
     "output_type": "execute_result"
    }
   ],
   "source": [
    "service"
   ]
  }
 ],
 "metadata": {
  "kernelspec": {
   "display_name": "venv",
   "language": "python",
   "name": "python3"
  },
  "language_info": {
   "codemirror_mode": {
    "name": "ipython",
    "version": 3
   },
   "file_extension": ".py",
   "mimetype": "text/x-python",
   "name": "python",
   "nbconvert_exporter": "python",
   "pygments_lexer": "ipython3",
   "version": "3.12.7"
  }
 },
 "nbformat": 4,
 "nbformat_minor": 2
}
