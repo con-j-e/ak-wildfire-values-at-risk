{
 "cells": [
  {
   "cell_type": "code",
   "execution_count": null,
   "metadata": {},
   "outputs": [],
   "source": [
    "from arcgis.gis import GIS, ContentManager\n",
    "import ast\n",
    "import pathlib\n",
    "\n",
    "cwd = pathlib.Path().cwd()\n",
    "proj_dir = cwd.parent.parent\n",
    "secrets_dir = proj_dir / 'secrets'"
   ]
  },
  {
   "cell_type": "code",
   "execution_count": null,
   "metadata": {},
   "outputs": [],
   "source": [
    "## connect to GIS and get content manager\n",
    "\n",
    "with open(secrets_dir / 'nifc_ago_credentials.txt', 'r') as file:\n",
    "    nifc_credentials_str = file.read()\n",
    "    nifc_credentials_tup = ast.literal_eval(nifc_credentials_str)\n",
    "\n",
    "nifc_gis = GIS(*nifc_credentials_tup)\n",
    "\n",
    "manager = ContentManager(nifc_gis)"
   ]
  },
  {
   "cell_type": "code",
   "execution_count": null,
   "metadata": {},
   "outputs": [],
   "source": [
    "service = manager.create_service(\n",
    "    #-name = 'TESTING_AK_Wildfire_Values_at_Risk',\n",
    "    name = 'AK_Wildfire_Values_at_Risk',\n",
    "    #-service_description='Test service. Definition should be kept identical to that of the AK_Wildfire_Values_at_Risk service. Used for development purposes.',\n",
    "    service_description = 'Hosts outputs of a values-at-risk analysis for Alaska wildfires. Development is ongoing during the 2025 fire season.',\n",
    "    has_static_data = False,\n",
    "    max_record_count = 2000,\n",
    "    supported_query_formats = 'JSON,geoJSON',\n",
    "    capabilities = 'Query,Create,Update,Delete',\n",
    "    description = '',\n",
    "    copyright_text = '',\n",
    "    wkid = 3338,\n",
    "    create_params = None,\n",
    "    service_type = 'featureService',\n",
    "    owner = 'AK_State_Authoritative_nifc',\n",
    "    folder = 'ak-wildfire-values-at-risk',\n",
    "    #-folder = 'TESTING_ak-wildfire-values-at-risk',\n",
    "    item_properties = None,\n",
    "    is_view = False,\n",
    "    #-tags = 'TESTING',\n",
    "    tags = 'Alaska, Wildfire, Values-at-Risk, Alaska Division of Forestry',\n",
    "    snippet = None,\n",
    "    item_id = None\n",
    ")"
   ]
  },
  {
   "cell_type": "code",
   "execution_count": null,
   "metadata": {},
   "outputs": [],
   "source": [
    "service"
   ]
  }
 ],
 "metadata": {
  "kernelspec": {
   "display_name": "venv",
   "language": "python",
   "name": "python3"
  },
  "language_info": {
   "codemirror_mode": {
    "name": "ipython",
    "version": 3
   },
   "file_extension": ".py",
   "mimetype": "text/x-python",
   "name": "python",
   "nbconvert_exporter": "python",
   "pygments_lexer": "ipython3",
   "version": "3.12.7"
  }
 },
 "nbformat": 4,
 "nbformat_minor": 2
}
