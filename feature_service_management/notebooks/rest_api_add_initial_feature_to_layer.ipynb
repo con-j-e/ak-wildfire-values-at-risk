{
 "cells": [
  {
   "cell_type": "code",
   "execution_count": 1,
   "metadata": {},
   "outputs": [],
   "source": [
    "from arcgis.gis import GIS\n",
    "from arcgis.features import FeatureSet\n",
    "import ast\n",
    "import datetime\n",
    "import json\n",
    "import pathlib\n",
    "import pandas as pd\n",
    "from pprint import pprint\n",
    "import requests\n",
    "\n",
    "cwd = pathlib.Path().cwd()\n",
    "proj_dir = cwd.parent.parent\n",
    "secrets_dir = proj_dir / 'secrets'\n",
    "planning_dir = proj_dir / 'planning'"
   ]
  },
  {
   "cell_type": "code",
   "execution_count": 2,
   "metadata": {},
   "outputs": [],
   "source": [
    "schema_df = pd.read_csv(planning_dir / 'schema_plan.tsv',  delimiter='\\t')\n",
    "attrs_lst = schema_df['FIELD_NAME'].to_list() # at 20250317 service layer at idx 0 includes every field in the schema plan\n",
    "attrs = {attr: None for attr in attrs_lst}"
   ]
  },
  {
   "cell_type": "code",
   "execution_count": 3,
   "metadata": {},
   "outputs": [],
   "source": [
    "## non-nullable fields\n",
    "\n",
    "attrs['FireActivityStatus'] = 'Out'\n",
    "\n",
    "attrs['AnalysisBufferMiles'] = 0\n",
    "attrs['ReportedAcOverPerimAc'] = 0\n",
    "attrs['HasError'] = 0\n",
    "\n",
    "attrs['DefaultLabel'] = 'TEST'\n",
    "attrs['ReportedAcres'] = 5\n",
    "\n",
    "\n",
    "attrs['wfigs_IrwinID'] = '{D0160365-fake-fire-haha-A8AD445EA18A}'\n",
    "\n",
    "date_str = \"03/1/2025 12:00:00\"\n",
    "attrs['wfigs_ModifiedOnDateTime_dt'] = date_str"
   ]
  },
  {
   "cell_type": "code",
   "execution_count": 4,
   "metadata": {},
   "outputs": [],
   "source": [
    "with open (cwd.parent / 'dummy_fire_geom.json', 'r') as file:\n",
    "    dummy_geom = json.load(file)\n",
    "\n",
    "init_feat = [\n",
    "    {\n",
    "        \"attributes\": attrs,\n",
    "        \"geometry\": dummy_geom['geometry']\n",
    "    }\n",
    "]"
   ]
  },
  {
   "cell_type": "code",
   "execution_count": 5,
   "metadata": {},
   "outputs": [
    {
     "name": "stdout",
     "output_type": "stream",
     "text": [
      "[   {   'attributes': {   'AkFireNumber': None,\n",
      "                          'AkFireRegion': None,\n",
      "                          'AkMine_Active_AttrCount': None,\n",
      "                          'AkMine_FeatureCount': None,\n",
      "                          'AkMine_Nearest': None,\n",
      "                          'AkMine_Note_AttrCount': None,\n",
      "                          'AkMine_Type_AttrCount': None,\n",
      "                          'AkPowerLine_CondType_FeetSum': None,\n",
      "                          'AkPowerLine_Nearest': None,\n",
      "                          'AkPowerLine_TotalFeet': None,\n",
      "                          'AkPowerLine_Voltage_FeetSum': None,\n",
      "                          'Aksd_FeatureCount': None,\n",
      "                          'Aksd_MainStruct_AttrSum': None,\n",
      "                          'Aksd_Nearest': None,\n",
      "                          'Aksd_OtherStruct_AttrSum': None,\n",
      "                          'Aksd_Protection_AttrCount': None,\n",
      "                          'Aksd_SiteCat_AttrCount': None,\n",
      "                          'AnalysisBufferMiles': 0,\n",
      "                          'Community_FeatureCount': None,\n",
      "                          'Community_Name_AttrCount': None,\n",
      "                          'Community_Nearest': None,\n",
      "                          'ComsTwr_FeatureCount': None,\n",
      "                          'ComsTwr_Nearest': None,\n",
      "                          'ComsTwr_Type_AttrCount': None,\n",
      "                          'DefaultLabel': 'TEST',\n",
      "                          'FireActivityStatus': 'Out',\n",
      "                          'HasError': 0,\n",
      "                          'Jurisd_Owner_AcreSum': None,\n",
      "                          'Jurisd_Unit_AcreSum': None,\n",
      "                          'MgmtOption_AcreSum': None,\n",
      "                          'NpsStruct_FeatureCount': None,\n",
      "                          'NpsStruct_Nearest': None,\n",
      "                          'NpsStruct_Protection_AttrCount': None,\n",
      "                          'NpsStruct_Rating_AttrCount': None,\n",
      "                          'NpsStruct_Use_AttrCount': None,\n",
      "                          'NtvAllot_FeatureCount': None,\n",
      "                          'NtvAllot_Nearest': None,\n",
      "                          'NtvAllot_Status_AcreSum': None,\n",
      "                          'NtvAllot_TotalAcres': None,\n",
      "                          'Parcel_BuildingValue_AttrSum': None,\n",
      "                          'Parcel_FeatureCount': None,\n",
      "                          'Parcel_LandValue_AttrSum': None,\n",
      "                          'Parcel_Nearest': None,\n",
      "                          'Parcel_PropType_AcreSum': None,\n",
      "                          'Parcel_PropUse_AcreSum': None,\n",
      "                          'Parcel_TotalAcres': None,\n",
      "                          'Parcel_TotalValue_AttrSum': None,\n",
      "                          'PertolTerm_Nearest': None,\n",
      "                          'PetrolTerm_Company_AttrCount': None,\n",
      "                          'PetrolTerm_FeatureCount': None,\n",
      "                          'PipeLine_Name_FeetSum': None,\n",
      "                          'PipeLine_Nearest': None,\n",
      "                          'PipeLine_TotalFeet': None,\n",
      "                          'PowerPlant_FeatureCount': None,\n",
      "                          'PowerPlant_Nearest': None,\n",
      "                          'PowerPlant_PrimSource_AttrCount': None,\n",
      "                          'PowerPlant_SectorName_AttrCount': None,\n",
      "                          'PowerPlant_UtilName_AttrCount': None,\n",
      "                          'Railroad_Nearest': None,\n",
      "                          'Railroad_NetDesc_FeetSum': None,\n",
      "                          'Railroad_TotalFeet': None,\n",
      "                          'ReportedAcOverPerimAc': 0,\n",
      "                          'ReportedAcres': 5,\n",
      "                          'Roads_Nearest': None,\n",
      "                          'Runway_FeatureCount': None,\n",
      "                          'Runway_LocID_AttrCount': None,\n",
      "                          'Runway_Nearest': None,\n",
      "                          'Runway_Ownership_AttrCount': None,\n",
      "                          'Silviculture_FeatureCount': None,\n",
      "                          'Silviculture_Nearest': None,\n",
      "                          'Silviculture_Status_AcreSum': None,\n",
      "                          'Silviculture_TotalAcres': None,\n",
      "                          'Silviculture_TotalValue_AttrSum': None,\n",
      "                          'SpecMgmt_Consid_AttrCount': None,\n",
      "                          'SpecMgmt_FeatureCount': None,\n",
      "                          'SpecMgmt_Nearest': None,\n",
      "                          'UsaStruct_FeatureCount': None,\n",
      "                          'UsaStruct_Nearest': None,\n",
      "                          'UsaStruct_OccCls_AttrCount': None,\n",
      "                          'UsaStruct_PrimOcc_AttrCount': None,\n",
      "                          'UsaStruct_SecOcc_AttrCount': None,\n",
      "                          'WeatherStation_FeatureCount': None,\n",
      "                          'WeatherStation_Name_AttrCount': None,\n",
      "                          'WeatherStation_Nearest': None,\n",
      "                          'WindTurb_FeatureCount': None,\n",
      "                          'WindTurb_Nearest': None,\n",
      "                          'WindTurb_ProjName_AttrCount': None,\n",
      "                          'wfigs_GISAcres': None,\n",
      "                          'wfigs_IncidentName': None,\n",
      "                          'wfigs_IrwinID': '{D0160365-fake-fire-haha-A8AD445EA18A}',\n",
      "                          'wfigs_MapMethod': None,\n",
      "                          'wfigs_ModifiedOnDateTime_dt': '03/1/2025 12:00:00',\n",
      "                          'wfigs_PolygonDateTime': None},\n",
      "        'geometry': {   'rings': [   [   [   281441.8345999997,\n",
      "                                             1358596.7859000005],\n",
      "                                         [   282410.2087999992,\n",
      "                                             1358338.5527999997],\n",
      "                                         [   282055.13829999976,\n",
      "                                             1357563.8533999994],\n",
      "                                         [   281215.8805999998,\n",
      "                                             1358015.7613999993],\n",
      "                                         [   281441.8345999997,\n",
      "                                             1358596.7859000005]]],\n",
      "                        'spatialReference': {'wkid': 3338}}}]\n"
     ]
    }
   ],
   "source": [
    "pprint(init_feat, indent=4)"
   ]
  },
  {
   "cell_type": "code",
   "execution_count": 6,
   "metadata": {},
   "outputs": [],
   "source": [
    "## retrieve token\n",
    "\n",
    "with open(secrets_dir / 'nifc_ago_credentials.txt', 'r') as file:\n",
    "    nifc_credentials_str = file.read()\n",
    "    nifc_credentials_tup = ast.literal_eval(nifc_credentials_str)\n",
    "\n",
    "nifc_gis = GIS(*nifc_credentials_tup)\n",
    "\n",
    "token = nifc_gis._con.token"
   ]
  },
  {
   "cell_type": "code",
   "execution_count": 7,
   "metadata": {},
   "outputs": [],
   "source": [
    "post_data = {\n",
    "    'adds': json.dumps(init_feat),\n",
    "    'rollbackOnFailure': True,\n",
    "    'f': 'json',\n",
    "    'token': token,\n",
    "}"
   ]
  },
  {
   "cell_type": "code",
   "execution_count": 10,
   "metadata": {},
   "outputs": [],
   "source": [
    "response = requests.post(\n",
    "    r'https://services3.arcgis.com/T4QMspbfLg3qTGWY/arcgis/rest/services/AK_Wildfire_Values_at_Risk/FeatureServer/0/applyEdits',\n",
    "    data=post_data\n",
    ")"
   ]
  },
  {
   "cell_type": "code",
   "execution_count": 11,
   "metadata": {},
   "outputs": [
    {
     "data": {
      "text/plain": [
       "{'addResults': [{'objectId': 1,\n",
       "   'uniqueId': 1,\n",
       "   'globalId': '7E1FE3A7-41A6-42EC-BA6F-FE3B6C91AF7C',\n",
       "   'success': True}],\n",
       " 'updateResults': [],\n",
       " 'deleteResults': []}"
      ]
     },
     "execution_count": 11,
     "metadata": {},
     "output_type": "execute_result"
    }
   ],
   "source": [
    "response.json()"
   ]
  }
 ],
 "metadata": {
  "kernelspec": {
   "display_name": "venv",
   "language": "python",
   "name": "python3"
  },
  "language_info": {
   "codemirror_mode": {
    "name": "ipython",
    "version": 3
   },
   "file_extension": ".py",
   "mimetype": "text/x-python",
   "name": "python",
   "nbconvert_exporter": "python",
   "pygments_lexer": "ipython3",
   "version": "3.12.7"
  }
 },
 "nbformat": 4,
 "nbformat_minor": 2
}
