{
 "cells": [
  {
   "cell_type": "code",
   "execution_count": null,
   "metadata": {},
   "outputs": [],
   "source": [
    "from arcgis.gis import GIS\n",
    "from arcgis.features import FeatureSet\n",
    "import ast\n",
    "import datetime\n",
    "import json\n",
    "import pathlib\n",
    "import pandas as pd\n",
    "from pprint import pprint\n",
    "import requests\n",
    "\n",
    "cwd = pathlib.Path().cwd()\n",
    "proj_dir = cwd.parent.parent\n",
    "secrets_dir = proj_dir / 'secrets'\n",
    "planning_dir = proj_dir / 'planning'"
   ]
  },
  {
   "cell_type": "code",
   "execution_count": null,
   "metadata": {},
   "outputs": [],
   "source": [
    "schema_df = pd.read_csv(planning_dir / 'schema_plan.tsv',  delimiter='\\t')\n",
    "attrs_lst = schema_df['FIELD_NAME'].to_list() # at 20250317 service layer at idx 0 includes every field in the schema plan\n",
    "attrs = {attr: None for attr in attrs_lst}"
   ]
  },
  {
   "cell_type": "code",
   "execution_count": null,
   "metadata": {},
   "outputs": [],
   "source": [
    "## non-nullable fields\n",
    "\n",
    "attrs['FireActivityStatus'] = 'Out'\n",
    "\n",
    "attrs['AnalysisBufferMiles'] = 0\n",
    "attrs['ReportedAcOverPerimAc'] = 0\n",
    "attrs['HasError'] = 0\n",
    "\n",
    "attrs['DefaultLabel'] = 'TEST'\n",
    "attrs['ReportedAcres'] = 5\n",
    "\n",
    "\n",
    "attrs['wfigs_IrwinID'] = '{D0160365-fake-fire-haha-A8AD445EA18A}'\n",
    "\n",
    "date_str = \"03/1/2025 12:00:00\"\n",
    "attrs['wfigs_ModifiedOnDateTime_dt'] = date_str"
   ]
  },
  {
   "cell_type": "code",
   "execution_count": null,
   "metadata": {},
   "outputs": [],
   "source": [
    "with open (cwd.parent / 'dummy_fire_geom.json', 'r') as file:\n",
    "    dummy_geom = json.load(file)\n",
    "\n",
    "init_feat = [\n",
    "    {\n",
    "        \"attributes\": attrs,\n",
    "        \"geometry\": dummy_geom['geometry']\n",
    "    }\n",
    "]"
   ]
  },
  {
   "cell_type": "code",
   "execution_count": null,
   "metadata": {},
   "outputs": [],
   "source": [
    "pprint(init_feat, indent=4)"
   ]
  },
  {
   "cell_type": "code",
   "execution_count": null,
   "metadata": {},
   "outputs": [],
   "source": [
    "## retrieve token\n",
    "\n",
    "with open(secrets_dir / 'nifc_ago_credentials.txt', 'r') as file:\n",
    "    nifc_credentials_str = file.read()\n",
    "    nifc_credentials_tup = ast.literal_eval(nifc_credentials_str)\n",
    "\n",
    "nifc_gis = GIS(*nifc_credentials_tup)\n",
    "\n",
    "token = nifc_gis._con.token"
   ]
  },
  {
   "cell_type": "code",
   "execution_count": null,
   "metadata": {},
   "outputs": [],
   "source": [
    "post_data = {\n",
    "    'adds': json.dumps(init_feat),\n",
    "    'rollbackOnFailure': True,\n",
    "    'f': 'json',\n",
    "    'token': token,\n",
    "}"
   ]
  },
  {
   "cell_type": "code",
   "execution_count": null,
   "metadata": {},
   "outputs": [],
   "source": [
    "response = requests.post(\n",
    "    r'https://services3.arcgis.com/T4QMspbfLg3qTGWY/arcgis/rest/services/AK_Wildfire_Values_at_Risk/FeatureServer/0/applyEdits',\n",
    "    data=post_data\n",
    ")"
   ]
  },
  {
   "cell_type": "code",
   "execution_count": null,
   "metadata": {},
   "outputs": [],
   "source": [
    "response.json()"
   ]
  }
 ],
 "metadata": {
  "kernelspec": {
   "display_name": "venv",
   "language": "python",
   "name": "python3"
  },
  "language_info": {
   "codemirror_mode": {
    "name": "ipython",
    "version": 3
   },
   "file_extension": ".py",
   "mimetype": "text/x-python",
   "name": "python",
   "nbconvert_exporter": "python",
   "pygments_lexer": "ipython3",
   "version": "3.12.7"
  }
 },
 "nbformat": 4,
 "nbformat_minor": 2
}
