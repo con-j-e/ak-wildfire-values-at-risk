{
 "cells": [
  {
   "cell_type": "code",
   "execution_count": null,
   "metadata": {},
   "outputs": [],
   "source": [
    "import asyncio\n",
    "import json\n",
    "import json5\n",
    "import os\n",
    "import pathlib\n",
    "from pprint import pprint\n",
    "import requests"
   ]
  },
  {
   "cell_type": "code",
   "execution_count": null,
   "metadata": {},
   "outputs": [],
   "source": [
    "cwd = pathlib.Path().cwd()\n",
    "proj_dir = cwd.parent.parent\n",
    "os.chdir(proj_dir)\n",
    "\n",
    "from utils.arcgis_helpers import checkout_token\n",
    "from utils.arcgis_helpers import AsyncArcGISRequester"
   ]
  },
  {
   "cell_type": "code",
   "execution_count": null,
   "metadata": {},
   "outputs": [],
   "source": [
    "nifc_token = checkout_token('NIFC_AGO', 120, 'NIFC_TOKEN', 15)"
   ]
  },
  {
   "cell_type": "code",
   "execution_count": null,
   "metadata": {},
   "outputs": [],
   "source": [
    "# must delete all records prior to updating fields \n",
    "# because some fields that are being removed and re-added to retain order are non-nullable\n",
    "\n",
    "async with AsyncArcGISRequester() as requester:\n",
    "    response = await requester.applyEdits_request(\n",
    "        url=r'https://services3.arcgis.com/T4QMspbfLg3qTGWY/arcgis/rest/services/AK_Wildfire_Values_at_Risk/FeatureServer/0',\n",
    "        token=nifc_token,\n",
    "        features_to_add=[],\n",
    "        get_oids_to_delete_query='1=1'\n",
    "    )"
   ]
  },
  {
   "cell_type": "code",
   "execution_count": null,
   "metadata": {},
   "outputs": [],
   "source": [
    "service_0 = r'https://services3.arcgis.com/T4QMspbfLg3qTGWY/arcgis/rest/admin/services/AK_Wildfire_Values_at_Risk/FeatureServer/0'\n",
    "\n",
    "with open (r'C:\\REPOS\\con-j-e\\ak-wildfire-values-at-risk-MERGING-TEMP\\feature_service_management\\layer_definition_updates\\create_interior_feats_fields_ordered.json5', 'r') as file:\n",
    "    update_fields = json5.load(file)"
   ]
  },
  {
   "cell_type": "code",
   "execution_count": null,
   "metadata": {},
   "outputs": [],
   "source": [
    "field_names = [field[\"name\"] for field in update_fields[\"fields\"]]\n",
    "\n",
    "# in production service, _Interior fields were never added (so don't need to get deleted prior to updating)\n",
    "# in production service, PertolTerm typo is still present (must delete this name explicitly instead of corrected version)\n",
    "delete_fields = {\n",
    "    \"fields\": [\n",
    "        {\"name\": field} for field in field_names if field != \"PetrolTerm_Nearest\" and '_Interior' not in field\n",
    "    ]\n",
    "}\n",
    "delete_fields[\"fields\"].append({\"name\": \"PertolTerm_Nearest\"})\n",
    "\n",
    "# Roads_Nearest is no longer in use\n",
    "update_fields = {\n",
    "    \"fields\": [\n",
    "        obj for obj in update_fields[\"fields\"] if obj[\"name\"] != \"Roads_Nearest\"\n",
    "    ]\n",
    "}"
   ]
  },
  {
   "cell_type": "code",
   "execution_count": null,
   "metadata": {},
   "outputs": [],
   "source": [
    "pprint(delete_fields, indent=4)"
   ]
  },
  {
   "cell_type": "code",
   "execution_count": null,
   "metadata": {},
   "outputs": [],
   "source": [
    "post_data = {\n",
    "    'deleteFromDefinition': json.dumps(delete_fields),\n",
    "    'f': 'json',\n",
    "    'token': nifc_token\n",
    "}\n",
    "\n",
    "resp = requests.post(\n",
    "    url = f'{service_0}/deleteFromDefinition',\n",
    "    data = post_data\n",
    ")"
   ]
  },
  {
   "cell_type": "code",
   "execution_count": null,
   "metadata": {},
   "outputs": [],
   "source": [
    "print(resp.json())"
   ]
  },
  {
   "cell_type": "code",
   "execution_count": null,
   "metadata": {},
   "outputs": [],
   "source": [
    "pprint(update_fields, indent=4)"
   ]
  },
  {
   "cell_type": "code",
   "execution_count": null,
   "metadata": {},
   "outputs": [],
   "source": [
    "post_data = {\n",
    "    'addToDefinition': json.dumps(update_fields),\n",
    "    'f': 'json',\n",
    "    'token': nifc_token\n",
    "}\n",
    "\n",
    "resp = requests.post(\n",
    "    url = f'{service_0}/addToDefinition',\n",
    "    data = post_data\n",
    ")"
   ]
  },
  {
   "cell_type": "code",
   "execution_count": null,
   "metadata": {},
   "outputs": [],
   "source": [
    "print(resp.json())"
   ]
  }
 ],
 "metadata": {
  "kernelspec": {
   "display_name": "venv",
   "language": "python",
   "name": "python3"
  },
  "language_info": {
   "codemirror_mode": {
    "name": "ipython",
    "version": 3
   },
   "file_extension": ".py",
   "mimetype": "text/x-python",
   "name": "python",
   "nbconvert_exporter": "python",
   "pygments_lexer": "ipython3",
   "version": "3.12.8"
  }
 },
 "nbformat": 4,
 "nbformat_minor": 2
}
