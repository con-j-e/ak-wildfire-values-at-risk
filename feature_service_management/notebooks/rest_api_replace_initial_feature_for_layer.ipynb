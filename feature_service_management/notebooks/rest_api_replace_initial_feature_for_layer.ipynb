{
 "cells": [
  {
   "cell_type": "code",
   "execution_count": null,
   "metadata": {},
   "outputs": [],
   "source": [
    "from arcgis.gis import GIS\n",
    "from arcgis.features import FeatureSet\n",
    "import ast\n",
    "import datetime\n",
    "import json\n",
    "import os\n",
    "import pathlib\n",
    "import pandas as pd\n",
    "from pprint import pprint\n",
    "import requests\n",
    "\n",
    "cwd = pathlib.Path().cwd()\n",
    "proj_dir = cwd.parent.parent\n",
    "\n",
    "os.chdir(proj_dir)\n",
    "from utils.arcgis_helpers import checkout_token"
   ]
  },
  {
   "cell_type": "code",
   "execution_count": null,
   "metadata": {},
   "outputs": [],
   "source": [
    "## non-nullable fields\n",
    "\n",
    "attrs = {}\n",
    "\n",
    "attrs['FireActivityStatus'] = 'Out'\n",
    "\n",
    "attrs['AnalysisBufferMiles'] = 0\n",
    "attrs['ReportedAcOverPerimAc'] = 0\n",
    "attrs['HasError'] = 0\n",
    "\n",
    "attrs['DefaultLabel'] = 'TEST'\n",
    "attrs['ReportedAcres'] = 5\n",
    "\n",
    "\n",
    "attrs['wfigs_IrwinID'] = '{D0160365-fake-fire-haha-A8AD445EA18A}'\n",
    "\n",
    "date_str = \"01/1/2025 12:00:00\"\n",
    "attrs['wfigs_ModifiedOnDateTime_dt'] = date_str"
   ]
  },
  {
   "cell_type": "code",
   "execution_count": null,
   "metadata": {},
   "outputs": [],
   "source": [
    "with open (r'C:\\REPOS\\con-j-e\\ak-wildfire-values-at-risk\\feature_service_management\\dummy_fire_geom.json', 'r') as file:\n",
    "    dummy_geom = json.load(file)\n",
    "\n",
    "init_feat = [\n",
    "    {\n",
    "        \"attributes\": attrs,\n",
    "        \"geometry\": dummy_geom['geometry']\n",
    "    }\n",
    "]"
   ]
  },
  {
   "cell_type": "code",
   "execution_count": null,
   "metadata": {},
   "outputs": [],
   "source": [
    "pprint(init_feat, indent=4)"
   ]
  },
  {
   "cell_type": "code",
   "execution_count": null,
   "metadata": {},
   "outputs": [],
   "source": [
    "nifc_token = checkout_token('NIFC_AGO', 120, 'NIFC_TOKEN', 15)"
   ]
  },
  {
   "cell_type": "code",
   "execution_count": null,
   "metadata": {},
   "outputs": [],
   "source": [
    "post_data = {\n",
    "    'adds': json.dumps(init_feat),\n",
    "    'rollbackOnFailure': True,\n",
    "    'f': 'json',\n",
    "    'token': nifc_token,\n",
    "}"
   ]
  },
  {
   "cell_type": "code",
   "execution_count": null,
   "metadata": {},
   "outputs": [],
   "source": [
    "response = requests.post(\n",
    "    #testing\n",
    "    r'https://services3.arcgis.com/T4QMspbfLg3qTGWY/arcgis/rest/services/AK_Wildfire_Values_at_Risk/FeatureServer/0/applyEdits',\n",
    "    data=post_data\n",
    ")"
   ]
  },
  {
   "cell_type": "code",
   "execution_count": null,
   "metadata": {},
   "outputs": [],
   "source": [
    "response.json()"
   ]
  }
 ],
 "metadata": {
  "kernelspec": {
   "display_name": "venv",
   "language": "python",
   "name": "python3"
  },
  "language_info": {
   "codemirror_mode": {
    "name": "ipython",
    "version": 3
   },
   "file_extension": ".py",
   "mimetype": "text/x-python",
   "name": "python",
   "nbconvert_exporter": "python",
   "pygments_lexer": "ipython3",
   "version": "3.12.8"
  }
 },
 "nbformat": 4,
 "nbformat_minor": 2
}
