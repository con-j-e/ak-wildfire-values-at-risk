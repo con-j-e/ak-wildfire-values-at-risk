{
 "cells": [
  {
   "cell_type": "code",
   "execution_count": 1,
   "metadata": {},
   "outputs": [],
   "source": [
    "from arcgis.gis import GIS\n",
    "from arcgis.features import FeatureSet\n",
    "import ast\n",
    "import datetime\n",
    "import json\n",
    "import os\n",
    "import pathlib\n",
    "import pandas as pd\n",
    "from pprint import pprint\n",
    "import requests\n",
    "\n",
    "cwd = pathlib.Path().cwd()\n",
    "proj_dir = cwd.parent.parent\n",
    "\n",
    "os.chdir(proj_dir)\n",
    "from utils.arcgis_helpers import checkout_token"
   ]
  },
  {
   "cell_type": "code",
   "execution_count": 2,
   "metadata": {},
   "outputs": [],
   "source": [
    "## non-nullable fields\n",
    "\n",
    "attrs = {}\n",
    "\n",
    "attrs['FireActivityStatus'] = 'Out'\n",
    "\n",
    "attrs['AnalysisBufferMiles'] = 0\n",
    "attrs['ReportedAcOverPerimAc'] = 0\n",
    "attrs['HasError'] = 0\n",
    "\n",
    "attrs['DefaultLabel'] = 'TEST'\n",
    "attrs['ReportedAcres'] = 5\n",
    "\n",
    "\n",
    "attrs['wfigs_IrwinID'] = '{D0160365-fake-fire-haha-A8AD445EA18A}'\n",
    "\n",
    "date_str = \"01/1/2025 12:00:00\"\n",
    "attrs['wfigs_ModifiedOnDateTime_dt'] = date_str"
   ]
  },
  {
   "cell_type": "code",
   "execution_count": 3,
   "metadata": {},
   "outputs": [],
   "source": [
    "with open (r'C:\\REPOS\\con-j-e\\ak-wildfire-values-at-risk\\feature_service_management\\dummy_fire_geom.json', 'r') as file:\n",
    "    dummy_geom = json.load(file)\n",
    "\n",
    "init_feat = [\n",
    "    {\n",
    "        \"attributes\": attrs,\n",
    "        \"geometry\": dummy_geom['geometry']\n",
    "    }\n",
    "]"
   ]
  },
  {
   "cell_type": "code",
   "execution_count": 4,
   "metadata": {},
   "outputs": [
    {
     "name": "stdout",
     "output_type": "stream",
     "text": [
      "[   {   'attributes': {   'AnalysisBufferMiles': 0,\n",
      "                          'DefaultLabel': 'TEST',\n",
      "                          'FireActivityStatus': 'Out',\n",
      "                          'HasError': 0,\n",
      "                          'ReportedAcOverPerimAc': 0,\n",
      "                          'ReportedAcres': 5,\n",
      "                          'wfigs_IrwinID': '{D0160365-fake-fire-haha-A8AD445EA18A}',\n",
      "                          'wfigs_ModifiedOnDateTime_dt': '01/1/2025 12:00:00'},\n",
      "        'geometry': {   'rings': [   [   [   281441.8345999997,\n",
      "                                             1358596.7859000005],\n",
      "                                         [   282410.2087999992,\n",
      "                                             1358338.5527999997],\n",
      "                                         [   282055.13829999976,\n",
      "                                             1357563.8533999994],\n",
      "                                         [   281215.8805999998,\n",
      "                                             1358015.7613999993],\n",
      "                                         [   281441.8345999997,\n",
      "                                             1358596.7859000005]]],\n",
      "                        'spatialReference': {'wkid': 3338}}}]\n"
     ]
    }
   ],
   "source": [
    "pprint(init_feat, indent=4)"
   ]
  },
  {
   "cell_type": "code",
   "execution_count": 5,
   "metadata": {},
   "outputs": [],
   "source": [
    "nifc_token = checkout_token('NIFC_AGO', 120, 'NIFC_TOKEN', 15)"
   ]
  },
  {
   "cell_type": "code",
   "execution_count": 6,
   "metadata": {},
   "outputs": [],
   "source": [
    "post_data = {\n",
    "    'adds': json.dumps(init_feat),\n",
    "    'rollbackOnFailure': True,\n",
    "    'f': 'json',\n",
    "    'token': nifc_token,\n",
    "}"
   ]
  },
  {
   "cell_type": "code",
   "execution_count": 7,
   "metadata": {},
   "outputs": [],
   "source": [
    "response = requests.post(\n",
    "    #testing\n",
    "    r'https://services3.arcgis.com/T4QMspbfLg3qTGWY/arcgis/rest/services/AK_Wildfire_Values_at_Risk/FeatureServer/0/applyEdits',\n",
    "    data=post_data\n",
    ")"
   ]
  },
  {
   "cell_type": "code",
   "execution_count": 8,
   "metadata": {},
   "outputs": [
    {
     "data": {
      "text/plain": [
       "{'addResults': [{'objectId': 154,\n",
       "   'uniqueId': 154,\n",
       "   'globalId': 'CAA737E8-8809-43D2-BDAA-60BBB06B7C50',\n",
       "   'success': True}],\n",
       " 'updateResults': [],\n",
       " 'deleteResults': []}"
      ]
     },
     "execution_count": 8,
     "metadata": {},
     "output_type": "execute_result"
    }
   ],
   "source": [
    "response.json()"
   ]
  }
 ],
 "metadata": {
  "kernelspec": {
   "display_name": "venv",
   "language": "python",
   "name": "python3"
  },
  "language_info": {
   "codemirror_mode": {
    "name": "ipython",
    "version": 3
   },
   "file_extension": ".py",
   "mimetype": "text/x-python",
   "name": "python",
   "nbconvert_exporter": "python",
   "pygments_lexer": "ipython3",
   "version": "3.12.8"
  }
 },
 "nbformat": 4,
 "nbformat_minor": 2
}
