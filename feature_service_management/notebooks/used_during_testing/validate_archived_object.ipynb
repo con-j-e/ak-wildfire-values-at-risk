{
 "cells": [
  {
   "cell_type": "code",
   "execution_count": null,
   "metadata": {},
   "outputs": [],
   "source": [
    "import asyncio\n",
    "import json\n",
    "import os\n",
    "import pathlib\n",
    "import pickle as pkl"
   ]
  },
  {
   "cell_type": "code",
   "execution_count": null,
   "metadata": {},
   "outputs": [],
   "source": [
    "cwd = pathlib.Path().cwd()\n",
    "proj_dir = cwd.parent.parent.parent\n",
    "archive_dir = proj_dir / 'out_fires_archive'\n",
    "os.chdir(proj_dir)\n",
    "\n",
    "from utils.arcgis_helpers import checkout_token\n",
    "from utils.arcgis_helpers import AsyncArcGISRequester"
   ]
  },
  {
   "cell_type": "code",
   "execution_count": null,
   "metadata": {},
   "outputs": [],
   "source": [
    "nifc_token = checkout_token('NIFC_AGO', 120, 'NIFC_TOKEN', 15)"
   ]
  },
  {
   "cell_type": "code",
   "execution_count": null,
   "metadata": {},
   "outputs": [],
   "source": [
    "with open(archive_dir / '2025_04_22_21_03.pkl', 'rb') as file:\n",
    "    archive_gdf = pkl.load(file)"
   ]
  },
  {
   "cell_type": "code",
   "execution_count": null,
   "metadata": {},
   "outputs": [],
   "source": [
    "for c in archive_gdf.columns:\n",
    "    print(c)"
   ]
  },
  {
   "cell_type": "code",
   "execution_count": null,
   "metadata": {},
   "outputs": [],
   "source": [
    "archive_dict = {\n",
    "    0: archive_gdf[archive_gdf['AnalysisBufferMiles'] == 0].copy(),\n",
    "    1: archive_gdf[archive_gdf['AnalysisBufferMiles'] == 1].copy(),\n",
    "    2: archive_gdf[archive_gdf['AnalysisBufferMiles'] == 3].copy(),\n",
    "    3: archive_gdf[archive_gdf['AnalysisBufferMiles'] == 5].copy()\n",
    "}"
   ]
  },
  {
   "cell_type": "code",
   "execution_count": null,
   "metadata": {},
   "outputs": [],
   "source": [
    "archive_dict[0]"
   ]
  }
 ],
 "metadata": {
  "kernelspec": {
   "display_name": "venv",
   "language": "python",
   "name": "python3"
  },
  "language_info": {
   "codemirror_mode": {
    "name": "ipython",
    "version": 3
   },
   "file_extension": ".py",
   "mimetype": "text/x-python",
   "name": "python",
   "nbconvert_exporter": "python",
   "pygments_lexer": "ipython3",
   "version": "3.12.8"
  }
 },
 "nbformat": 4,
 "nbformat_minor": 2
}
