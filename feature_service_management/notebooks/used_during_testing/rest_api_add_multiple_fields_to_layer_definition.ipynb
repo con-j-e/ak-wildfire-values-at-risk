{
 "cells": [
  {
   "cell_type": "code",
   "execution_count": 1,
   "metadata": {},
   "outputs": [],
   "source": [
    "from arcgis.gis import GIS\n",
    "from arcgis.features import FeatureSet\n",
    "import ast\n",
    "import datetime\n",
    "import json\n",
    "import pathlib\n",
    "import pandas as pd\n",
    "from pprint import pprint\n",
    "import requests\n",
    "\n",
    "cwd = pathlib.Path().cwd()\n",
    "proj_dir = cwd.parent\n",
    "secrets_dir = proj_dir / 'secrets'"
   ]
  },
  {
   "cell_type": "code",
   "execution_count": 17,
   "metadata": {},
   "outputs": [],
   "source": [
    "test_service_0 = r'https://services3.arcgis.com/T4QMspbfLg3qTGWY/arcgis/rest/admin/services/TESTING_AK_Wildfire_Values_at_Risk/FeatureServer/0'\n",
    "test_service_1 = r'https://services3.arcgis.com/T4QMspbfLg3qTGWY/arcgis/rest/admin/services/TESTING_AK_Wildfire_Values_at_Risk/FeatureServer/1'\n",
    "test_service_2 = r'https://services3.arcgis.com/T4QMspbfLg3qTGWY/arcgis/rest/admin/services/TESTING_AK_Wildfire_Values_at_Risk/FeatureServer/2'\n",
    "test_service_3 = r'https://services3.arcgis.com/T4QMspbfLg3qTGWY/arcgis/rest/admin/services/TESTING_AK_Wildfire_Values_at_Risk/FeatureServer/3'"
   ]
  },
  {
   "cell_type": "code",
   "execution_count": null,
   "metadata": {},
   "outputs": [
    {
     "data": {
      "text/plain": [
       "'\\n\\n        {\\n            \"name\": \"FireActivityStatus\",\\n            \"type\": \"esriFieldTypeString\",\\n            \"alias\": \"FireActivityStatus\",\\n            \"sqlType\": \"sqlTypeOther\",\\n            \"length\": 25,\\n            #-\"nullable\": False,\\n            \"nullable\": True,\\n            \"editable\": True,\\n            \"domain\": None,\\n            \"defaultValue\": None,\\n        }\\n    ]\\n}\\n\\n        {\\n            \"name\": \"AkFireRegion\",\\n            \"type\": \"esriFieldTypeString\",\\n            \"alias\": \"AkFireRegion\",\\n            \"sqlType\": \"sqlTypeOther\",\\n            \"length\": 5,\\n            #-\"nullable\": False,\\n            \"nullable\": True,\\n            \"editable\": True,\\n            \"domain\": None,\\n            \"defaultValue\": None,\\n        }\\n\\n        {\\n            \"name\": \"AkFireNumber\",\\n            \"type\": \"esriFieldTypeSmallInteger\",\\n            \"alias\": \"AkFireNumber\",\\n            \"sqlType\": \"sqlTypeOther\",\\n            #-\"nullable\": False,\\n            \"nullable\": True,\\n            \"editable\": True,\\n            \"domain\": None,\\n            \"defaultValue\": None,\\n        }\\n'"
      ]
     },
     "execution_count": 50,
     "metadata": {},
     "output_type": "execute_result"
    }
   ],
   "source": [
    "\n",
    "# should be able to add multiple fields to definition at once\n",
    "# i did one at a time because I a typo in one of my \"type\" parameters was throwing an error while trying to add multiple.\n",
    "\n",
    "to_add = {\n",
    "    \"fields\": [\n",
    "        {\n",
    "            \"name\": \"FireActivityStatus\",\n",
    "            \"type\": \"esriFieldTypeString\",\n",
    "            \"alias\": \"FireActivityStatus\",\n",
    "            \"sqlType\": \"sqlTypeOther\",\n",
    "            \"length\": 25,\n",
    "            #-\"nullable\": False,\n",
    "            \"nullable\": True,\n",
    "            \"editable\": True,\n",
    "            \"domain\": None,\n",
    "            \"defaultValue\": None,\n",
    "        }\n",
    "    ]\n",
    "}\n",
    "\n",
    "\n",
    "'''\n",
    "\n",
    "        {\n",
    "            \"name\": \"FireActivityStatus\",\n",
    "            \"type\": \"esriFieldTypeString\",\n",
    "            \"alias\": \"FireActivityStatus\",\n",
    "            \"sqlType\": \"sqlTypeOther\",\n",
    "            \"length\": 25,\n",
    "            #-\"nullable\": False,\n",
    "            \"nullable\": True,\n",
    "            \"editable\": True,\n",
    "            \"domain\": None,\n",
    "            \"defaultValue\": None,\n",
    "        }\n",
    "    ]\n",
    "}\n",
    "\n",
    "        {\n",
    "            \"name\": \"AkFireRegion\",\n",
    "            \"type\": \"esriFieldTypeString\",\n",
    "            \"alias\": \"AkFireRegion\",\n",
    "            \"sqlType\": \"sqlTypeOther\",\n",
    "            \"length\": 5,\n",
    "            #-\"nullable\": False,\n",
    "            \"nullable\": True,\n",
    "            \"editable\": True,\n",
    "            \"domain\": None,\n",
    "            \"defaultValue\": None,\n",
    "        }\n",
    "\n",
    "        {\n",
    "            \"name\": \"AkFireNumber\",\n",
    "            \"type\": \"esriFieldTypeSmallInteger\",\n",
    "            \"alias\": \"AkFireNumber\",\n",
    "            \"sqlType\": \"sqlTypeOther\",\n",
    "            #-\"nullable\": False,\n",
    "            \"nullable\": True,\n",
    "            \"editable\": True,\n",
    "            \"domain\": None,\n",
    "            \"defaultValue\": None,\n",
    "        }\n",
    "'''"
   ]
  },
  {
   "cell_type": "code",
   "execution_count": 4,
   "metadata": {},
   "outputs": [],
   "source": [
    "## retrieve token\n",
    "\n",
    "with open(secrets_dir / 'nifc_ago_credentials.txt', 'r') as file:\n",
    "    nifc_credentials_str = file.read()\n",
    "    nifc_credentials_tup = ast.literal_eval(nifc_credentials_str)\n",
    "\n",
    "nifc_gis = GIS(*nifc_credentials_tup)\n",
    "\n",
    "token = nifc_gis._con.token"
   ]
  },
  {
   "cell_type": "code",
   "execution_count": 51,
   "metadata": {},
   "outputs": [],
   "source": [
    "post_data = {\n",
    "    'addToDefinition': json.dumps(to_add),\n",
    "    'f': 'json',\n",
    "    'token': token\n",
    "}"
   ]
  },
  {
   "cell_type": "code",
   "execution_count": 52,
   "metadata": {},
   "outputs": [
    {
     "name": "stdout",
     "output_type": "stream",
     "text": [
      "{   'addToDefinition': '{\"fields\": [{\"name\": \"FireActivityStatus\", \"type\": '\n",
      "                       '\"esriFieldTypeString\", \"alias\": \"FireActivityStatus\", '\n",
      "                       '\"sqlType\": \"sqlTypeOther\", \"length\": 25, \"nullable\": '\n",
      "                       'true, \"editable\": true, \"domain\": null, '\n",
      "                       '\"defaultValue\": null}]}',\n",
      "    'f': 'json',\n",
      "    'token': '3NKHt6i2urmWtqOuugvr9duFtzosvLrpHkgle2vvzJk0mtGR5abZFDMpGE0oPA0PqyOJ-4_78dcI_ezT8swzG8f9ELBcYbNKxuVk3pzLkMVgAtDEvYMKp23gXjqIdHt9aqwqUlCRNH_DR_S_nf4PS8i_4C9dMNZZGsNt5Dj1wmFQ60qDp1aeq4qM-_rJ1dwbGTpya8P0ZDvXd44wFIrhtqXNpDBAYG-ja-wHeBZM2J0.'}\n"
     ]
    }
   ],
   "source": [
    "pprint(post_data, indent=4)"
   ]
  },
  {
   "cell_type": "code",
   "execution_count": 59,
   "metadata": {},
   "outputs": [],
   "source": [
    "resp = requests.post(\n",
    "    url = f'{test_service_3}/addToDefinition',\n",
    "    data = post_data\n",
    ")"
   ]
  },
  {
   "cell_type": "code",
   "execution_count": 60,
   "metadata": {},
   "outputs": [
    {
     "name": "stdout",
     "output_type": "stream",
     "text": [
      "{'success': True}\n"
     ]
    }
   ],
   "source": [
    "print(resp.json())"
   ]
  }
 ],
 "metadata": {
  "kernelspec": {
   "display_name": "venv",
   "language": "python",
   "name": "python3"
  },
  "language_info": {
   "codemirror_mode": {
    "name": "ipython",
    "version": 3
   },
   "file_extension": ".py",
   "mimetype": "text/x-python",
   "name": "python",
   "nbconvert_exporter": "python",
   "pygments_lexer": "ipython3",
   "version": "3.12.7"
  }
 },
 "nbformat": 4,
 "nbformat_minor": 2
}
