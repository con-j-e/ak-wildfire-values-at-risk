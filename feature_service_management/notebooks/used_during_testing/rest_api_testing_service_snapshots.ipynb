{
 "cells": [
  {
   "cell_type": "code",
   "execution_count": null,
   "metadata": {},
   "outputs": [],
   "source": [
    "import asyncio\n",
    "import json\n",
    "import os\n",
    "import pathlib"
   ]
  },
  {
   "cell_type": "code",
   "execution_count": null,
   "metadata": {},
   "outputs": [],
   "source": [
    "cwd = pathlib.Path().cwd()\n",
    "proj_dir = cwd.parent.parent.parent\n",
    "sample_objects_dir = proj_dir / 'sample_objects'\n",
    "os.chdir(proj_dir)\n",
    "\n",
    "from utils.arcgis_helpers import checkout_token\n",
    "from utils.arcgis_helpers import AsyncArcGISRequester"
   ]
  },
  {
   "cell_type": "code",
   "execution_count": null,
   "metadata": {},
   "outputs": [],
   "source": [
    "nifc_token = checkout_token('NIFC_AGO', 120, 'NIFC_TOKEN', 15)"
   ]
  },
  {
   "cell_type": "markdown",
   "metadata": {},
   "source": [
    "# save current state of service, so features can be replaced to replicate state."
   ]
  },
  {
   "cell_type": "code",
   "execution_count": null,
   "metadata": {},
   "outputs": [],
   "source": [
    "async with AsyncArcGISRequester() as requester:\n",
    "    snapshot_0 = await requester.arcgis_rest_api_get(\n",
    "        base_url=r'https://services3.arcgis.com/T4QMspbfLg3qTGWY/arcgis/rest/services/TESTING_AK_Wildfire_Values_at_Risk/FeatureServer/0',\n",
    "        params={'f':'json', 'token':nifc_token, 'where':'1=1', 'outfields':'*'},\n",
    "        operation='query?'\n",
    "    )\n",
    "    snapshot_1 = await requester.arcgis_rest_api_get(\n",
    "        base_url=r'https://services3.arcgis.com/T4QMspbfLg3qTGWY/arcgis/rest/services/TESTING_AK_Wildfire_Values_at_Risk/FeatureServer/1',\n",
    "        params={'f':'json', 'token':nifc_token, 'where':'1=1', 'outfields':'*'},\n",
    "        operation='query?'\n",
    "    )\n",
    "    snapshot_2 = await requester.arcgis_rest_api_get(\n",
    "        base_url=r'https://services3.arcgis.com/T4QMspbfLg3qTGWY/arcgis/rest/services/TESTING_AK_Wildfire_Values_at_Risk/FeatureServer/2',\n",
    "        params={'f':'json', 'token':nifc_token, 'where':'1=1', 'outfields':'*'},\n",
    "        operation='query?'\n",
    "    )\n",
    "    snapshot_3 = await requester.arcgis_rest_api_get(\n",
    "        base_url=r'https://services3.arcgis.com/T4QMspbfLg3qTGWY/arcgis/rest/services/TESTING_AK_Wildfire_Values_at_Risk/FeatureServer/3',\n",
    "        params={'f':'json', 'token':nifc_token, 'where':'1=1', 'outfields':'*'},\n",
    "        operation='query?'\n",
    "    )"
   ]
  },
  {
   "cell_type": "code",
   "execution_count": null,
   "metadata": {},
   "outputs": [],
   "source": [
    "print(sample_objects_dir)"
   ]
  },
  {
   "cell_type": "code",
   "execution_count": null,
   "metadata": {},
   "outputs": [],
   "source": [
    "for name,response in {\n",
    "    'perims_locs': snapshot_0,\n",
    "    'buf_1': snapshot_1,\n",
    "    'buf_3': snapshot_2,\n",
    "    'buf_5': snapshot_3\n",
    "}.items():\n",
    "    feats = response['features']\n",
    "    print(len(feats))\n",
    "    with open(sample_objects_dir / f'{name}.json', 'w') as file:\n",
    "        json.dump(feats, file)\n",
    "    \n"
   ]
  },
  {
   "cell_type": "markdown",
   "metadata": {},
   "source": [
    "# read service state snapshots and add features to service to replicate state"
   ]
  },
  {
   "cell_type": "code",
   "execution_count": null,
   "metadata": {},
   "outputs": [],
   "source": [
    "feats_dict = {\n",
    "    'perims_locs': None,\n",
    "    'buf_1': None,\n",
    "    'buf_3': None,\n",
    "    'buf_5': None\n",
    "}\n",
    "\n",
    "for name,_ in feats_dict.items():\n",
    "    with open(sample_objects_dir / f'{name}.json', 'r') as file:\n",
    "        feats = json.load(file)\n",
    "    feats_dict[name] = feats\n",
    "\n",
    "lyr_idx_dict = {\n",
    "    'perims_locs': 0,\n",
    "    'buf_1': 1,\n",
    "    'buf_3': 2,\n",
    "    'buf_5': 3,\n",
    "}\n",
    "\n",
    "async with AsyncArcGISRequester() as requester:\n",
    "    for name, idx in lyr_idx_dict.items():\n",
    "        response = await requester.applyEdits_request(\n",
    "            url=fr'https://services3.arcgis.com/T4QMspbfLg3qTGWY/arcgis/rest/services/TESTING_AK_Wildfire_Values_at_Risk/FeatureServer/{idx}',\n",
    "            token=nifc_token,\n",
    "            features_to_add=feats_dict[name],\n",
    "            get_oids_to_delete_query='1=1'\n",
    "        )\n",
    "        print(response)\n"
   ]
  }
 ],
 "metadata": {
  "kernelspec": {
   "display_name": "venv",
   "language": "python",
   "name": "python3"
  },
  "language_info": {
   "codemirror_mode": {
    "name": "ipython",
    "version": 3
   },
   "file_extension": ".py",
   "mimetype": "text/x-python",
   "name": "python",
   "nbconvert_exporter": "python",
   "pygments_lexer": "ipython3",
   "version": "3.12.8"
  }
 },
 "nbformat": 4,
 "nbformat_minor": 2
}
