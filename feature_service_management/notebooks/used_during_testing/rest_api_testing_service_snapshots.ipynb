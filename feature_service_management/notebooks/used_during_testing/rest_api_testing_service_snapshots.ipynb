{
 "cells": [
  {
   "cell_type": "code",
   "execution_count": 1,
   "metadata": {},
   "outputs": [],
   "source": [
    "import asyncio\n",
    "import json\n",
    "import os\n",
    "import pathlib"
   ]
  },
  {
   "cell_type": "code",
   "execution_count": 2,
   "metadata": {},
   "outputs": [],
   "source": [
    "cwd = pathlib.Path().cwd()\n",
    "proj_dir = cwd.parent.parent.parent\n",
    "sample_objects_dir = proj_dir / 'sample_objects'\n",
    "os.chdir(proj_dir)\n",
    "\n",
    "from utils.arcgis_helpers import checkout_token\n",
    "from utils.arcgis_helpers import AsyncArcGISRequester"
   ]
  },
  {
   "cell_type": "code",
   "execution_count": 3,
   "metadata": {},
   "outputs": [],
   "source": [
    "nifc_token = checkout_token('NIFC_AGO', 120, 'NIFC_TOKEN', 15)"
   ]
  },
  {
   "cell_type": "markdown",
   "metadata": {},
   "source": [
    "# save current state of service, so features can be replaced to replicate state."
   ]
  },
  {
   "cell_type": "code",
   "execution_count": 10,
   "metadata": {},
   "outputs": [
    {
     "name": "stdout",
     "output_type": "stream",
     "text": [
      "Entering async context...\n"
     ]
    },
    {
     "name": "stderr",
     "output_type": "stream",
     "text": [
      "C:\\Program Files\\Python312\\Lib\\json\\decoder.py:354: RuntimeWarning: coroutine 'AsyncArcGISRequester.applyEdits_request' was never awaited\n",
      "  obj, end = self.scan_once(s, idx)\n",
      "RuntimeWarning: Enable tracemalloc to get the object allocation traceback\n"
     ]
    },
    {
     "name": "stdout",
     "output_type": "stream",
     "text": [
      "Exiting async context...\n"
     ]
    }
   ],
   "source": [
    "async with AsyncArcGISRequester() as requester:\n",
    "    snapshot_0 = await requester.arcgis_rest_api_get(\n",
    "        base_url=r'https://services3.arcgis.com/T4QMspbfLg3qTGWY/arcgis/rest/services/TESTING_AK_Wildfire_Values_at_Risk/FeatureServer/0',\n",
    "        params={'f':'json', 'token':nifc_token, 'where':'1=1', 'outfields':'*'},\n",
    "        operation='query?'\n",
    "    )\n",
    "    snapshot_1 = await requester.arcgis_rest_api_get(\n",
    "        base_url=r'https://services3.arcgis.com/T4QMspbfLg3qTGWY/arcgis/rest/services/TESTING_AK_Wildfire_Values_at_Risk/FeatureServer/1',\n",
    "        params={'f':'json', 'token':nifc_token, 'where':'1=1', 'outfields':'*'},\n",
    "        operation='query?'\n",
    "    )\n",
    "    snapshot_2 = await requester.arcgis_rest_api_get(\n",
    "        base_url=r'https://services3.arcgis.com/T4QMspbfLg3qTGWY/arcgis/rest/services/TESTING_AK_Wildfire_Values_at_Risk/FeatureServer/2',\n",
    "        params={'f':'json', 'token':nifc_token, 'where':'1=1', 'outfields':'*'},\n",
    "        operation='query?'\n",
    "    )\n",
    "    snapshot_3 = await requester.arcgis_rest_api_get(\n",
    "        base_url=r'https://services3.arcgis.com/T4QMspbfLg3qTGWY/arcgis/rest/services/TESTING_AK_Wildfire_Values_at_Risk/FeatureServer/3',\n",
    "        params={'f':'json', 'token':nifc_token, 'where':'1=1', 'outfields':'*'},\n",
    "        operation='query?'\n",
    "    )"
   ]
  },
  {
   "cell_type": "code",
   "execution_count": 5,
   "metadata": {},
   "outputs": [
    {
     "name": "stdout",
     "output_type": "stream",
     "text": [
      "c:\\REPOS\\con-j-e\\ak-wildfire-values-at-risk\\sample_objects\n"
     ]
    }
   ],
   "source": [
    "print(sample_objects_dir)"
   ]
  },
  {
   "cell_type": "code",
   "execution_count": 11,
   "metadata": {},
   "outputs": [
    {
     "name": "stdout",
     "output_type": "stream",
     "text": [
      "29\n",
      "29\n",
      "29\n",
      "29\n"
     ]
    }
   ],
   "source": [
    "for name,response in {\n",
    "    'perims_locs': snapshot_0,\n",
    "    'buf_1': snapshot_1,\n",
    "    'buf_3': snapshot_2,\n",
    "    'buf_5': snapshot_3\n",
    "}.items():\n",
    "    feats = response['features']\n",
    "    print(len(feats))\n",
    "    with open(sample_objects_dir / f'{name}.json', 'w') as file:\n",
    "        json.dump(feats, file)\n",
    "    \n"
   ]
  },
  {
   "cell_type": "markdown",
   "metadata": {},
   "source": [
    "# read service state snapshots and add features to service to replicate state"
   ]
  },
  {
   "cell_type": "code",
   "execution_count": 4,
   "metadata": {},
   "outputs": [
    {
     "name": "stdout",
     "output_type": "stream",
     "text": [
      "Entering async context...\n",
      "{'addResults': [{'objectId': 531, 'uniqueId': 531, 'globalId': '739BC3B0-7CC4-4277-836A-3D9662DD5185', 'success': True}, {'objectId': 532, 'uniqueId': 532, 'globalId': 'EAE5E48F-A87B-47AD-BAD6-9447B135F190', 'success': True}, {'objectId': 533, 'uniqueId': 533, 'globalId': '3082A0B4-1995-4B13-A7F4-201D29B33CAE', 'success': True}, {'objectId': 534, 'uniqueId': 534, 'globalId': 'C6F74980-D880-4AB8-8113-D6A7C74956A4', 'success': True}, {'objectId': 535, 'uniqueId': 535, 'globalId': 'A1428386-E310-4E49-908F-D7371090C5D2', 'success': True}, {'objectId': 536, 'uniqueId': 536, 'globalId': 'C1D8F7A4-4C99-476C-8710-B15EA6484777', 'success': True}, {'objectId': 537, 'uniqueId': 537, 'globalId': '3AF09545-134C-4250-A351-287D3ACF9112', 'success': True}, {'objectId': 538, 'uniqueId': 538, 'globalId': 'D57209CE-2803-4F8B-AE3D-A12F4D8F010D', 'success': True}, {'objectId': 539, 'uniqueId': 539, 'globalId': 'E19BD870-9D64-4E0F-B502-A1181B9B6314', 'success': True}, {'objectId': 540, 'uniqueId': 540, 'globalId': '8ED04228-0D71-4E70-B9C3-8DABAA63DB0B', 'success': True}, {'objectId': 541, 'uniqueId': 541, 'globalId': 'E7DA641D-1065-4D83-81BA-E4C680644B63', 'success': True}, {'objectId': 542, 'uniqueId': 542, 'globalId': 'CE1FE3ED-F651-4459-ACAC-E6CBC4B1B606', 'success': True}, {'objectId': 543, 'uniqueId': 543, 'globalId': 'AC281227-C842-47A0-A157-1BF4AE9FE798', 'success': True}, {'objectId': 544, 'uniqueId': 544, 'globalId': '908B5DDB-6C78-4596-87CA-82F511287843', 'success': True}, {'objectId': 545, 'uniqueId': 545, 'globalId': '7316BFDE-EFFA-4195-B3E5-7FC8A37B6A62', 'success': True}, {'objectId': 546, 'uniqueId': 546, 'globalId': 'EFA06F60-2E90-495C-ACB8-0DDCEDC3335E', 'success': True}, {'objectId': 547, 'uniqueId': 547, 'globalId': '6E81E443-BE61-404E-BF29-377423FD4D51', 'success': True}, {'objectId': 548, 'uniqueId': 548, 'globalId': '0089B034-EAC3-4540-B132-7CEB530B7A48', 'success': True}, {'objectId': 549, 'uniqueId': 549, 'globalId': '60DCA4AC-0D22-41D3-A7EA-B81191B45A96', 'success': True}, {'objectId': 550, 'uniqueId': 550, 'globalId': '50981EF9-447A-42DB-B7C3-E8BA53E665CC', 'success': True}, {'objectId': 551, 'uniqueId': 551, 'globalId': '58A344F7-0F04-4B3F-AE43-B24499D3C286', 'success': True}, {'objectId': 552, 'uniqueId': 552, 'globalId': 'DE0A1782-AF0B-4925-B386-A32C72449D0D', 'success': True}, {'objectId': 553, 'uniqueId': 553, 'globalId': 'D550D58C-6871-4317-84FA-E1EB259FF584', 'success': True}, {'objectId': 554, 'uniqueId': 554, 'globalId': '68EACBF1-D7EA-45E1-863E-EA5954D419C3', 'success': True}, {'objectId': 555, 'uniqueId': 555, 'globalId': '9E365D24-4662-495D-8CA3-8D5E49C5D50B', 'success': True}, {'objectId': 556, 'uniqueId': 556, 'globalId': '03E715F2-BF81-402E-84B7-FBBC709C852E', 'success': True}, {'objectId': 557, 'uniqueId': 557, 'globalId': '2264347A-234B-48C5-A2B5-5EA36DEE06C1', 'success': True}, {'objectId': 558, 'uniqueId': 558, 'globalId': '89B81679-F2BD-455F-85C7-E00646A09152', 'success': True}, {'objectId': 559, 'uniqueId': 559, 'globalId': '7ED0947C-7635-470E-8DDF-C0FDFB380FB4', 'success': True}], 'updateResults': [], 'deleteResults': [{'objectId': 524, 'uniqueId': 524, 'globalId': None, 'success': True}, {'objectId': 525, 'uniqueId': 525, 'globalId': None, 'success': True}, {'objectId': 526, 'uniqueId': 526, 'globalId': None, 'success': True}, {'objectId': 521, 'uniqueId': 521, 'globalId': None, 'success': True}, {'objectId': 520, 'uniqueId': 520, 'globalId': None, 'success': True}, {'objectId': 529, 'uniqueId': 529, 'globalId': None, 'success': True}, {'objectId': 519, 'uniqueId': 519, 'globalId': None, 'success': True}, {'objectId': 523, 'uniqueId': 523, 'globalId': None, 'success': True}, {'objectId': 522, 'uniqueId': 522, 'globalId': None, 'success': True}, {'objectId': 527, 'uniqueId': 527, 'globalId': None, 'success': True}, {'objectId': 528, 'uniqueId': 528, 'globalId': None, 'success': True}, {'objectId': 530, 'uniqueId': 530, 'globalId': None, 'success': True}]}\n",
      "{'addResults': [{'objectId': 498, 'uniqueId': 498, 'globalId': '53B80BBB-740F-4E15-AC3F-01788095D8E7', 'success': True}, {'objectId': 499, 'uniqueId': 499, 'globalId': '253CA7A1-8FE1-4F25-B235-F2BE1910C14D', 'success': True}, {'objectId': 500, 'uniqueId': 500, 'globalId': 'F22E3062-F70F-4275-AB4A-2728F5F9C10F', 'success': True}, {'objectId': 501, 'uniqueId': 501, 'globalId': 'D1D1EC87-7E38-45FB-924F-05C4487FF785', 'success': True}, {'objectId': 502, 'uniqueId': 502, 'globalId': '9494987A-3F9D-42E4-93F9-EDCC27011B8F', 'success': True}, {'objectId': 503, 'uniqueId': 503, 'globalId': '1B03F195-16EB-4117-9C75-BD5122B19822', 'success': True}, {'objectId': 504, 'uniqueId': 504, 'globalId': '783F4D4E-BB35-41B6-817C-39759B0087F8', 'success': True}, {'objectId': 505, 'uniqueId': 505, 'globalId': '8CDB3F5B-B443-4E71-85AC-BEB453434CF6', 'success': True}, {'objectId': 506, 'uniqueId': 506, 'globalId': '58391DAE-05A7-44AE-B0BF-4CC11E5A6C15', 'success': True}, {'objectId': 507, 'uniqueId': 507, 'globalId': 'E37B3EF9-1ADF-424C-912E-6AA52EB92B19', 'success': True}, {'objectId': 508, 'uniqueId': 508, 'globalId': 'AD02BBEA-D8A2-4CF5-9F45-6251D13E093D', 'success': True}, {'objectId': 509, 'uniqueId': 509, 'globalId': '76B0242D-0565-4580-88CE-3E373428C87C', 'success': True}, {'objectId': 510, 'uniqueId': 510, 'globalId': 'D0CE2568-94FC-479A-B434-8B4C212057FD', 'success': True}, {'objectId': 511, 'uniqueId': 511, 'globalId': 'F408F098-1CAE-4E46-98C5-600218B19DE9', 'success': True}, {'objectId': 512, 'uniqueId': 512, 'globalId': '3A705128-CF53-4DB9-A202-6C62226C273E', 'success': True}, {'objectId': 513, 'uniqueId': 513, 'globalId': 'B446CFDF-7A8D-4667-8E10-77DCBCE9ADFB', 'success': True}, {'objectId': 514, 'uniqueId': 514, 'globalId': '4C7593B1-EFD8-46BF-B563-070CB067C062', 'success': True}, {'objectId': 515, 'uniqueId': 515, 'globalId': '3012F546-6459-460D-88DF-4902CA739847', 'success': True}, {'objectId': 516, 'uniqueId': 516, 'globalId': 'B9DF4151-7246-45EA-9250-199A91AF7778', 'success': True}, {'objectId': 517, 'uniqueId': 517, 'globalId': '561088ED-C64D-40B0-80DC-1DCC6EA14A61', 'success': True}, {'objectId': 518, 'uniqueId': 518, 'globalId': 'DA8A02E0-5F5B-4B3B-B109-E87E2697FA18', 'success': True}, {'objectId': 519, 'uniqueId': 519, 'globalId': '8A1F3C44-1C67-44F0-A199-E578D35B86E8', 'success': True}, {'objectId': 520, 'uniqueId': 520, 'globalId': 'E72D3BC3-C4FE-4CB7-9B49-C7A6ABC32FC4', 'success': True}, {'objectId': 521, 'uniqueId': 521, 'globalId': '6F6571BD-9941-466B-A764-97B5F7EE2413', 'success': True}, {'objectId': 522, 'uniqueId': 522, 'globalId': 'D4BC0F5C-5DF1-4AC0-AA0F-C104F4E2F8BE', 'success': True}, {'objectId': 523, 'uniqueId': 523, 'globalId': 'D8A907F8-62FA-46E0-8E6A-5A8466C2B7C9', 'success': True}, {'objectId': 524, 'uniqueId': 524, 'globalId': 'EED1B965-BDC9-4472-83E0-492F84E97BBB', 'success': True}, {'objectId': 525, 'uniqueId': 525, 'globalId': '2E3B243B-4B56-4770-977D-B103E172247D', 'success': True}, {'objectId': 526, 'uniqueId': 526, 'globalId': 'E5BF44A8-F669-4974-ADE5-A8C386C0B935', 'success': True}], 'updateResults': [], 'deleteResults': [{'objectId': 491, 'uniqueId': 491, 'globalId': None, 'success': True}, {'objectId': 492, 'uniqueId': 492, 'globalId': None, 'success': True}, {'objectId': 490, 'uniqueId': 490, 'globalId': None, 'success': True}, {'objectId': 487, 'uniqueId': 487, 'globalId': None, 'success': True}, {'objectId': 494, 'uniqueId': 494, 'globalId': None, 'success': True}, {'objectId': 493, 'uniqueId': 493, 'globalId': None, 'success': True}, {'objectId': 495, 'uniqueId': 495, 'globalId': None, 'success': True}, {'objectId': 497, 'uniqueId': 497, 'globalId': None, 'success': True}, {'objectId': 496, 'uniqueId': 496, 'globalId': None, 'success': True}, {'objectId': 489, 'uniqueId': 489, 'globalId': None, 'success': True}, {'objectId': 488, 'uniqueId': 488, 'globalId': None, 'success': True}, {'objectId': 486, 'uniqueId': 486, 'globalId': None, 'success': True}]}\n",
      "{'addResults': [{'objectId': 498, 'uniqueId': 498, 'globalId': 'B9BAFDCB-D167-46AF-B986-4F6BDA50836A', 'success': True}, {'objectId': 499, 'uniqueId': 499, 'globalId': '570C6398-F0B0-4083-91E3-88E25D9D03D7', 'success': True}, {'objectId': 500, 'uniqueId': 500, 'globalId': '6DC4F620-DFE9-40FA-88C0-A199CC96FC55', 'success': True}, {'objectId': 501, 'uniqueId': 501, 'globalId': 'ED40B5E0-EF94-4C79-ADDD-89C2CB07C9E7', 'success': True}, {'objectId': 502, 'uniqueId': 502, 'globalId': '6FD3F055-5969-421B-8A8C-F81604FCABB1', 'success': True}, {'objectId': 503, 'uniqueId': 503, 'globalId': '8B30317E-08CB-4DF9-A0BA-A4CD3F92F590', 'success': True}, {'objectId': 504, 'uniqueId': 504, 'globalId': '6B78016F-E48F-436E-96DA-97EB911F7F3D', 'success': True}, {'objectId': 505, 'uniqueId': 505, 'globalId': 'FE256FDA-D980-42D2-A6DF-A8DE4157F330', 'success': True}, {'objectId': 506, 'uniqueId': 506, 'globalId': '9E033F94-9DCF-4E7B-97D7-249586CA2D64', 'success': True}, {'objectId': 507, 'uniqueId': 507, 'globalId': '5EA1D32E-8225-47E8-AB3E-1B2332BFB00B', 'success': True}, {'objectId': 508, 'uniqueId': 508, 'globalId': '5F61DB58-B9AC-43F6-8DC9-E22BE27F76D2', 'success': True}, {'objectId': 509, 'uniqueId': 509, 'globalId': '88828273-2C5E-4985-B966-231D8B3EB70C', 'success': True}, {'objectId': 510, 'uniqueId': 510, 'globalId': '62B41C8B-E395-425F-AF80-C37E9A6B964A', 'success': True}, {'objectId': 511, 'uniqueId': 511, 'globalId': 'F4D5ABF9-449C-4553-B7BE-C028E264CA23', 'success': True}, {'objectId': 512, 'uniqueId': 512, 'globalId': 'A161756E-3CB0-43C4-A85B-EE453B685EF9', 'success': True}, {'objectId': 513, 'uniqueId': 513, 'globalId': '6C68AD50-518D-44EC-AF92-EF5A28D13338', 'success': True}, {'objectId': 514, 'uniqueId': 514, 'globalId': '4EC297DB-B1D3-46F9-BFB0-6DCF37C25BDC', 'success': True}, {'objectId': 515, 'uniqueId': 515, 'globalId': '0B50800D-D54B-4EFF-A340-3C261F437ACA', 'success': True}, {'objectId': 516, 'uniqueId': 516, 'globalId': 'FA3FC16F-3549-42D3-8294-7C4193CA67EF', 'success': True}, {'objectId': 517, 'uniqueId': 517, 'globalId': '7AE025B5-4BDE-441D-9B4D-C3ACFB38F4D0', 'success': True}, {'objectId': 518, 'uniqueId': 518, 'globalId': '4AF8FABD-CB80-4B29-974F-D10E6373ADE1', 'success': True}, {'objectId': 519, 'uniqueId': 519, 'globalId': '703F6890-CA5E-4624-9CBE-81FE2E80AC4C', 'success': True}, {'objectId': 520, 'uniqueId': 520, 'globalId': '820B4AE6-8EA3-41DC-B25F-7F0A7183779B', 'success': True}, {'objectId': 521, 'uniqueId': 521, 'globalId': '53B49F4D-DD56-4438-B64C-E9A7F03362C9', 'success': True}, {'objectId': 522, 'uniqueId': 522, 'globalId': '7352C8C8-23F6-47A3-955E-0AE9FAFDFD6E', 'success': True}, {'objectId': 523, 'uniqueId': 523, 'globalId': 'E1A0E7C9-B661-41B5-B56C-BA1E1F9DE3BF', 'success': True}, {'objectId': 524, 'uniqueId': 524, 'globalId': '5554A4BE-EDD1-4C73-AA2F-58AB740E61A0', 'success': True}, {'objectId': 525, 'uniqueId': 525, 'globalId': 'CE48015B-6DE9-4425-ABC9-1ADB3AA7BC70', 'success': True}, {'objectId': 526, 'uniqueId': 526, 'globalId': '1EF52E9A-D8EA-4ED0-837F-94D21B7D4521', 'success': True}], 'updateResults': [], 'deleteResults': [{'objectId': 492, 'uniqueId': 492, 'globalId': None, 'success': True}, {'objectId': 491, 'uniqueId': 491, 'globalId': None, 'success': True}, {'objectId': 490, 'uniqueId': 490, 'globalId': None, 'success': True}, {'objectId': 497, 'uniqueId': 497, 'globalId': None, 'success': True}, {'objectId': 494, 'uniqueId': 494, 'globalId': None, 'success': True}, {'objectId': 488, 'uniqueId': 488, 'globalId': None, 'success': True}, {'objectId': 495, 'uniqueId': 495, 'globalId': None, 'success': True}, {'objectId': 486, 'uniqueId': 486, 'globalId': None, 'success': True}, {'objectId': 496, 'uniqueId': 496, 'globalId': None, 'success': True}, {'objectId': 493, 'uniqueId': 493, 'globalId': None, 'success': True}, {'objectId': 489, 'uniqueId': 489, 'globalId': None, 'success': True}, {'objectId': 487, 'uniqueId': 487, 'globalId': None, 'success': True}]}\n",
      "{'addResults': [{'objectId': 498, 'uniqueId': 498, 'globalId': 'C1BB0285-574E-4490-BFD7-802F1D0DF5EE', 'success': True}, {'objectId': 499, 'uniqueId': 499, 'globalId': '374FC971-4CF0-41C6-82B9-0E824597EF20', 'success': True}, {'objectId': 500, 'uniqueId': 500, 'globalId': '0581BE5B-0B9A-42EC-A38A-2223F82B73A2', 'success': True}, {'objectId': 501, 'uniqueId': 501, 'globalId': '2CC39E88-1CB6-4C8F-BAD4-9AE2BCC820B6', 'success': True}, {'objectId': 502, 'uniqueId': 502, 'globalId': 'E5F0D0F5-AC3E-4013-9DFC-7154B6CE9663', 'success': True}, {'objectId': 503, 'uniqueId': 503, 'globalId': 'B824D9F4-F5A5-4BA1-AAE6-C1BAAABCEEAC', 'success': True}, {'objectId': 504, 'uniqueId': 504, 'globalId': 'D05EA8F4-94B3-4182-ACDC-DD1AC663899D', 'success': True}, {'objectId': 505, 'uniqueId': 505, 'globalId': '8BCA5C5E-667E-4823-9B7A-A8C3B599E320', 'success': True}, {'objectId': 506, 'uniqueId': 506, 'globalId': 'CDA2B17D-15BF-4B81-907A-DFDCE9ED4DA8', 'success': True}, {'objectId': 507, 'uniqueId': 507, 'globalId': '74036E55-CF84-4695-B186-9C6D2C97E6F1', 'success': True}, {'objectId': 508, 'uniqueId': 508, 'globalId': 'F81DBFD4-54D2-48F8-BBA5-786DD286E9D2', 'success': True}, {'objectId': 509, 'uniqueId': 509, 'globalId': 'AD864D7B-0B06-4313-8165-9C1A02E17408', 'success': True}, {'objectId': 510, 'uniqueId': 510, 'globalId': '0A4ED464-FBE4-4376-946E-0CD6BEC011C4', 'success': True}, {'objectId': 511, 'uniqueId': 511, 'globalId': 'B2B1EF51-8191-463D-8729-A48B3DD3DC47', 'success': True}, {'objectId': 512, 'uniqueId': 512, 'globalId': '276FCCD3-4E81-42DB-B8DE-0B76BF3DDC2F', 'success': True}, {'objectId': 513, 'uniqueId': 513, 'globalId': '6EC1C711-B456-4E9F-B14B-144E6E29CA1B', 'success': True}, {'objectId': 514, 'uniqueId': 514, 'globalId': '8859762A-6745-41AA-8E80-8467B6666153', 'success': True}, {'objectId': 515, 'uniqueId': 515, 'globalId': 'E0BDF284-157E-40D2-BFFB-6D0BEC2FD6B7', 'success': True}, {'objectId': 516, 'uniqueId': 516, 'globalId': '23D5B6FE-7514-4128-A0DD-C12BE438E67D', 'success': True}, {'objectId': 517, 'uniqueId': 517, 'globalId': 'C1FDACAD-34C1-4FDE-A7B0-A8EAC8AB8417', 'success': True}, {'objectId': 518, 'uniqueId': 518, 'globalId': '6A7B5DDB-694D-485A-8030-8208D9EF130E', 'success': True}, {'objectId': 519, 'uniqueId': 519, 'globalId': '8928E277-9B96-472E-A95E-F77A078A5311', 'success': True}, {'objectId': 520, 'uniqueId': 520, 'globalId': '7889A857-1EE8-4FA3-85DB-8DCF17E7D536', 'success': True}, {'objectId': 521, 'uniqueId': 521, 'globalId': 'CEA7131E-3E8D-41D8-8E05-E666F49D26B1', 'success': True}, {'objectId': 522, 'uniqueId': 522, 'globalId': 'B4F92E8A-F1E5-4797-8D49-6F7E12FB5BF4', 'success': True}, {'objectId': 523, 'uniqueId': 523, 'globalId': 'F6DE3078-3FAC-4251-A68D-6F3C130F5DAE', 'success': True}, {'objectId': 524, 'uniqueId': 524, 'globalId': '27523251-2796-4F48-BDB5-E4F34F39B8E3', 'success': True}, {'objectId': 525, 'uniqueId': 525, 'globalId': '7EE5F8E6-DD6C-4A43-BD24-D34417914D5E', 'success': True}, {'objectId': 526, 'uniqueId': 526, 'globalId': '5AD1B6C2-9314-4CF3-952B-1B6AA9F4973B', 'success': True}], 'updateResults': [], 'deleteResults': [{'objectId': 492, 'uniqueId': 492, 'globalId': None, 'success': True}, {'objectId': 491, 'uniqueId': 491, 'globalId': None, 'success': True}, {'objectId': 495, 'uniqueId': 495, 'globalId': None, 'success': True}, {'objectId': 488, 'uniqueId': 488, 'globalId': None, 'success': True}, {'objectId': 497, 'uniqueId': 497, 'globalId': None, 'success': True}, {'objectId': 496, 'uniqueId': 496, 'globalId': None, 'success': True}, {'objectId': 486, 'uniqueId': 486, 'globalId': None, 'success': True}, {'objectId': 487, 'uniqueId': 487, 'globalId': None, 'success': True}, {'objectId': 494, 'uniqueId': 494, 'globalId': None, 'success': True}, {'objectId': 489, 'uniqueId': 489, 'globalId': None, 'success': True}, {'objectId': 493, 'uniqueId': 493, 'globalId': None, 'success': True}, {'objectId': 490, 'uniqueId': 490, 'globalId': None, 'success': True}]}\n",
      "Exiting async context...\n"
     ]
    }
   ],
   "source": [
    "feats_dict = {\n",
    "    'perims_locs': None,\n",
    "    'buf_1': None,\n",
    "    'buf_3': None,\n",
    "    'buf_5': None\n",
    "}\n",
    "\n",
    "for name,_ in feats_dict.items():\n",
    "    with open(sample_objects_dir / f'{name}.json', 'r') as file:\n",
    "        feats = json.load(file)\n",
    "    feats_dict[name] = feats\n",
    "\n",
    "lyr_idx_dict = {\n",
    "    'perims_locs': 0,\n",
    "    'buf_1': 1,\n",
    "    'buf_3': 2,\n",
    "    'buf_5': 3,\n",
    "}\n",
    "\n",
    "async with AsyncArcGISRequester() as requester:\n",
    "    for name, idx in lyr_idx_dict.items():\n",
    "        response = await requester.applyEdits_request(\n",
    "            url=fr'https://services3.arcgis.com/T4QMspbfLg3qTGWY/arcgis/rest/services/TESTING_AK_Wildfire_Values_at_Risk/FeatureServer/{idx}',\n",
    "            token=nifc_token,\n",
    "            features_to_add=feats_dict[name],\n",
    "            get_oids_to_delete_query='1=1'\n",
    "        )\n",
    "        print(response)\n"
   ]
  }
 ],
 "metadata": {
  "kernelspec": {
   "display_name": "venv",
   "language": "python",
   "name": "python3"
  },
  "language_info": {
   "codemirror_mode": {
    "name": "ipython",
    "version": 3
   },
   "file_extension": ".py",
   "mimetype": "text/x-python",
   "name": "python",
   "nbconvert_exporter": "python",
   "pygments_lexer": "ipython3",
   "version": "3.12.8"
  }
 },
 "nbformat": 4,
 "nbformat_minor": 2
}
